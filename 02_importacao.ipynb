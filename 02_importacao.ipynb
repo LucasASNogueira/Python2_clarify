{
 "cells": [
  {
   "cell_type": "code",
   "execution_count": 1,
   "id": "1c15f6e1",
   "metadata": {},
   "outputs": [
    {
     "name": "stdout",
     "output_type": "stream",
     "text": [
      "----- Primeiro Relatório -----\n",
      "   Posição           Cliente          Cidade Plano Vendido\n",
      "0        1            Ejecta        Curitiba    Enterprise\n",
      "1        4      Exact Realty  Rio de Janeiro    Enterprise\n",
      "2        5  Express Merchant        Curitiba    Enterprise\n",
      "3        6      Perisolution    Porto Alegre    Enterprise\n",
      "4        7      Plan Smarter  Rio de Janeiro    Enterprise\n"
     ]
    }
   ],
   "source": [
    "\n",
    "import pandas as pd\n",
    "\n",
    "# carregar dados da planilha\n",
    "caminho =  'C:/dados/base_inicial.xlsx'\n",
    "\n",
    "df1 = pd.read_excel(caminho, sheet_name='Relatório de Vendas')\n",
    "df2 = pd.read_excel(caminho, sheet_name='Relatório de Vendas1')\n",
    "\n",
    "print('----- Primeiro Relatório -----')\n",
    "print(df1.head())"
   ]
  },
  {
   "cell_type": "code",
   "execution_count": 2,
   "id": "f94c328d",
   "metadata": {},
   "outputs": [
    {
     "name": "stdout",
     "output_type": "stream",
     "text": [
      "----- Segundo Relatório -----\n",
      "    7      Plan Smarter  Rio de Janeiro  Enterprise\n",
      "0   8         Planetbiz  Rio de Janeiro  Enterprise\n",
      "1   9          Powerbod        Curitiba  Enterprise\n",
      "2  10  Prahject Planner    Porto Alegre  Enterprise\n",
      "3  11   Pro-Care Garden  Rio de Janeiro  Enterprise\n",
      "4  12     Pro Star Game  Rio de Janeiro  Enterprise\n"
     ]
    }
   ],
   "source": [
    "print('----- Segundo Relatório -----')\n",
    "print(df2.head())"
   ]
  },
  {
   "cell_type": "code",
   "execution_count": 4,
   "id": "c4e6eba3",
   "metadata": {},
   "outputs": [
    {
     "name": "stdout",
     "output_type": "stream",
     "text": [
      "duplicatas no relatorio 1\n",
      "0\n",
      "duplicatas no relatorio 2\n",
      "0\n"
     ]
    }
   ],
   "source": [
    "print('duplicatas no relatorio 1')\n",
    "print(df1.duplicated().sum())\n",
    "print('duplicatas no relatorio 2')\n",
    "print(df2.duplicated().sum())"
   ]
  },
  {
   "cell_type": "markdown",
   "id": "2c52729c",
   "metadata": {},
   "source": [
    "Agora vamos consolidar as duas tabelas  "
   ]
  },
  {
   "cell_type": "code",
   "execution_count": 5,
   "id": "79c0bc9d",
   "metadata": {},
   "outputs": [
    {
     "name": "stdout",
     "output_type": "stream",
     "text": [
      "Dados consolidados\n",
      "   Posição           Cliente          Cidade Plano Vendido   7 Plan Smarter  \\\n",
      "0      1.0            Ejecta        Curitiba    Enterprise NaN          NaN   \n",
      "1      4.0      Exact Realty  Rio de Janeiro    Enterprise NaN          NaN   \n",
      "2      5.0  Express Merchant        Curitiba    Enterprise NaN          NaN   \n",
      "3      6.0      Perisolution    Porto Alegre    Enterprise NaN          NaN   \n",
      "4      7.0      Plan Smarter  Rio de Janeiro    Enterprise NaN          NaN   \n",
      "\n",
      "  Rio de Janeiro Enterprise  \n",
      "0            NaN        NaN  \n",
      "1            NaN        NaN  \n",
      "2            NaN        NaN  \n",
      "3            NaN        NaN  \n",
      "4            NaN        NaN  \n"
     ]
    }
   ],
   "source": [
    "print('Dados consolidados')\n",
    "df_consolidado = pd.concat([df1, df2], ignore_index=True)\n",
    "print(df_consolidado.head())\n"
   ]
  },
  {
   "cell_type": "code",
   "execution_count": 6,
   "id": "b0e7e4dd",
   "metadata": {},
   "outputs": [
    {
     "name": "stdout",
     "output_type": "stream",
     "text": [
      "Clientes por cidade:\n",
      "Cidade\n",
      "São Paulo         61\n",
      "Rio de Janeiro    48\n",
      "Porto Alegre      47\n",
      "Belo Horizonte    25\n",
      "Curitiba          25\n",
      "Salvador          25\n",
      "Florianópolis     12\n",
      "Name: Cliente, dtype: int64\n"
     ]
    }
   ],
   "source": [
    "clientes_por_cidade = df_consolidado.groupby('Cidade')['Cliente'].nunique().sort_values(ascending=False)\n",
    "print('Clientes por cidade:')\n",
    "print(clientes_por_cidade)"
   ]
  },
  {
   "cell_type": "markdown",
   "id": "a35874e0",
   "metadata": {},
   "source": [
    "Número de vendas por plano"
   ]
  },
  {
   "cell_type": "code",
   "execution_count": 8,
   "id": "55c97431",
   "metadata": {},
   "outputs": [
    {
     "name": "stdout",
     "output_type": "stream",
     "text": [
      "Número de Vendas por Plano\n",
      "Plano Vendido\n",
      "Basic         82\n",
      "Regular       66\n",
      "Pro           48\n",
      "Premium       32\n",
      "Enterprise    15\n",
      "Name: count, dtype: int64\n"
     ]
    }
   ],
   "source": [
    "vendas_por_plano = df_consolidado['Plano Vendido'].value_counts()\n",
    "print('Número de Vendas por Plano')\n",
    "print(vendas_por_plano)"
   ]
  },
  {
   "cell_type": "markdown",
   "id": "b9801920",
   "metadata": {},
   "source": [
    "Exibir as 3 primeiras cidades com mais clientes"
   ]
  },
  {
   "cell_type": "code",
   "execution_count": 10,
   "id": "83737ca6",
   "metadata": {},
   "outputs": [
    {
     "name": "stdout",
     "output_type": "stream",
     "text": [
      "Cidade\n",
      "São Paulo         61\n",
      "Rio de Janeiro    48\n",
      "Porto Alegre      47\n",
      "Name: Cliente, dtype: int64\n"
     ]
    }
   ],
   "source": [
    "top_3_cidades = clientes_por_cidade.head(3)\n",
    "print(top_3_cidades)"
   ]
  },
  {
   "cell_type": "code",
   "execution_count": 11,
   "id": "a0fbdffe",
   "metadata": {},
   "outputs": [
    {
     "name": "stdout",
     "output_type": "stream",
     "text": [
      "\n",
      " número total de clientes: 243\n"
     ]
    }
   ],
   "source": [
    "#Exibir o total de clientes \n",
    "total_clientes = df_consolidado['Cliente'].nunique()\n",
    "print(f'\\n número total de clientes: {total_clientes}')"
   ]
  },
  {
   "cell_type": "code",
   "execution_count": 13,
   "id": "8d55920a",
   "metadata": {},
   "outputs": [
    {
     "name": "stdout",
     "output_type": "stream",
     "text": [
      "Status\n",
      "Padrão    481\n",
      "Name: count, dtype: int64\n"
     ]
    }
   ],
   "source": [
    "#Adicionar uma coluna de Status (exemplo ficticio de analise)\n",
    "#Vamos classificar os planos como premium se for entreprise, caso contrario será padrão\n",
    "df_consolidado['Status'] = df_consolidado['Plano Vendido'].apply( lambda x: 'Premium' if x == 'Entreprise' else 'Padrão') \n",
    "      \n",
    "status_dist = df_consolidado['Status'].value_counts()\n",
    "print(status_dist)\n"
   ]
  },
  {
   "cell_type": "code",
   "execution_count": 17,
   "id": "477df08d",
   "metadata": {},
   "outputs": [],
   "source": [
    "#Salvar a tabela em um arquivo\n",
    "#Primeiro em Excel\n",
    "df_consolidado.to_excel('dados_consolidados_planilha.xlsx', index=False)\n",
    "#Depois em CSV\n",
    "df_consolidado.to_csv('dados_consolidados_text.csv', index=False)\n",
    "\n"
   ]
  },
  {
   "cell_type": "code",
   "execution_count": 18,
   "id": "d8b62b5d",
   "metadata": {},
   "outputs": [
    {
     "name": "stdout",
     "output_type": "stream",
     "text": [
      "\n",
      " Arquivos Gerados com sucesso!\n"
     ]
    }
   ],
   "source": [
    "#Exibir mensagem Final\n",
    "print('\\n Arquivos Gerados com sucesso!')"
   ]
  }
 ],
 "metadata": {
  "kernelspec": {
   "display_name": "dash_plotly_charming",
   "language": "python",
   "name": "python3"
  },
  "language_info": {
   "codemirror_mode": {
    "name": "ipython",
    "version": 3
   },
   "file_extension": ".py",
   "mimetype": "text/x-python",
   "name": "python",
   "nbconvert_exporter": "python",
   "pygments_lexer": "ipython3",
   "version": "3.9.13"
  }
 },
 "nbformat": 4,
 "nbformat_minor": 5
}
